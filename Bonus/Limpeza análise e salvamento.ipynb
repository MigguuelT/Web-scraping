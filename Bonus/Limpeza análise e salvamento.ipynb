{
 "cells": [
  {
   "cell_type": "markdown",
   "id": "0300b4e0",
   "metadata": {},
   "source": [
    "# Analise exploratória de dados (EDA)\n",
    "## Fluxo de limpeza, análise e salvamento de dados"
   ]
  },
  {
   "cell_type": "code",
   "execution_count": 1,
   "id": "688c7026",
   "metadata": {},
   "outputs": [],
   "source": [
    "import pandas as pd\n",
    "import os"
   ]
  },
  {
   "cell_type": "code",
   "execution_count": 2,
   "id": "fb82acb0",
   "metadata": {},
   "outputs": [
    {
     "name": "stdout",
     "output_type": "stream",
     "text": [
      "Dados lidos com sucesso. Total de linhas iniciais: 1004\n"
     ]
    }
   ],
   "source": [
    "\n",
    "\n",
    "# 1. Leitura dos Dados\n",
    "nome_arquivo_csv_entrada = \"alunos.csv\" # Nome do arquivo de entrada\n",
    "\n",
    "try:\n",
    "    # Verifica se o arquivo CSV de entrada existe antes de tentar ler\n",
    "    if not os.path.exists(nome_arquivo_csv_entrada):\n",
    "        raise FileNotFoundError(f\"O arquivo de entrada '{nome_arquivo_csv_entrada}' não foi encontrado.\")\n",
    "\n",
    "    tabela = pd.read_csv(nome_arquivo_csv_entrada)\n",
    "    print(f\"Dados lidos com sucesso. Total de linhas iniciais: {len(tabela)}\")\n",
    "\n",
    "except FileNotFoundError as e:\n",
    "    print(f\"ERRO: {e}\")\n",
    "except pd.errors.EmptyDataError:\n",
    "    print(f\"ERRO: O arquivo '{nome_arquivo_csv_entrada}' está vazio.\")\n",
    "except Exception as e:\n",
    "    print(f\"Ocorreu um erro inesperado: {e}\")"
   ]
  },
  {
   "cell_type": "code",
   "execution_count": 3,
   "id": "ff5d0680",
   "metadata": {},
   "outputs": [
    {
     "data": {
      "text/html": [
       "<div>\n",
       "<style scoped>\n",
       "    .dataframe tbody tr th:only-of-type {\n",
       "        vertical-align: middle;\n",
       "    }\n",
       "\n",
       "    .dataframe tbody tr th {\n",
       "        vertical-align: top;\n",
       "    }\n",
       "\n",
       "    .dataframe thead th {\n",
       "        text-align: right;\n",
       "    }\n",
       "</style>\n",
       "<table border=\"1\" class=\"dataframe\">\n",
       "  <thead>\n",
       "    <tr style=\"text-align: right;\">\n",
       "      <th></th>\n",
       "      <th>idade</th>\n",
       "      <th>nota</th>\n",
       "      <th>horas_estudo</th>\n",
       "      <th>area_formacao</th>\n",
       "    </tr>\n",
       "  </thead>\n",
       "  <tbody>\n",
       "    <tr>\n",
       "      <th>0</th>\n",
       "      <td>16</td>\n",
       "      <td>9.151123</td>\n",
       "      <td>20.0</td>\n",
       "      <td>Ciência de dados</td>\n",
       "    </tr>\n",
       "    <tr>\n",
       "      <th>1</th>\n",
       "      <td>16</td>\n",
       "      <td>9.151123</td>\n",
       "      <td>20.0</td>\n",
       "      <td>Ciência de dados</td>\n",
       "    </tr>\n",
       "    <tr>\n",
       "      <th>2</th>\n",
       "      <td>16</td>\n",
       "      <td>9.151123</td>\n",
       "      <td>20.0</td>\n",
       "      <td>Ciência de dados</td>\n",
       "    </tr>\n",
       "    <tr>\n",
       "      <th>3</th>\n",
       "      <td>23</td>\n",
       "      <td>0.890541</td>\n",
       "      <td>19.0</td>\n",
       "      <td>Ciência de dados</td>\n",
       "    </tr>\n",
       "    <tr>\n",
       "      <th>4</th>\n",
       "      <td>23</td>\n",
       "      <td>0.890541</td>\n",
       "      <td>NaN</td>\n",
       "      <td>Ciência de dados</td>\n",
       "    </tr>\n",
       "  </tbody>\n",
       "</table>\n",
       "</div>"
      ],
      "text/plain": [
       "   idade      nota  horas_estudo     area_formacao\n",
       "0     16  9.151123          20.0  Ciência de dados\n",
       "1     16  9.151123          20.0  Ciência de dados\n",
       "2     16  9.151123          20.0  Ciência de dados\n",
       "3     23  0.890541          19.0  Ciência de dados\n",
       "4     23  0.890541           NaN  Ciência de dados"
      ]
     },
     "execution_count": 3,
     "metadata": {},
     "output_type": "execute_result"
    }
   ],
   "source": [
    "df = pd.read_csv(\"alunos.csv\")\n",
    "df.head()\n"
   ]
  },
  {
   "cell_type": "code",
   "execution_count": 4,
   "id": "2fa3ee6a",
   "metadata": {},
   "outputs": [
    {
     "name": "stdout",
     "output_type": "stream",
     "text": [
      "Linhas duplicadas removidas: 2\n",
      "Linhas com valores vazios removidas: 2\n",
      "Total de linhas após a limpeza: 1000\n"
     ]
    }
   ],
   "source": [
    "# 2. Limpeza de Dados: Remoção de linhas duplicadas e vazias\n",
    "linhas_duplicadas = df.duplicated().sum()\n",
    "df = df.drop_duplicates(inplace=False)\n",
    "print(f\"Linhas duplicadas removidas: {linhas_duplicadas}\")\n",
    "\n",
    "linhas_vazias_removidas = len(df) - len(df.dropna(how='any'))\n",
    "df = df.dropna(how='any', inplace=False)\n",
    "print(f\"Linhas com valores vazios removidas: {linhas_vazias_removidas}\")\n",
    "print(f\"Total de linhas após a limpeza: {len(df)}\")"
   ]
  },
  {
   "cell_type": "code",
   "execution_count": 5,
   "id": "1765d6f0",
   "metadata": {},
   "outputs": [],
   "source": [
    "# 3. Exploração (Análise Estatística)\n",
    "# 3.1. Resumo estatístico descritivo\n",
    "resumo = tabela.describe(include=\"all\").T\n",
    "\n",
    "# 3.2. Matriz de Correlações\n",
    "correlacoes = tabela.corr(numeric_only=True)"
   ]
  },
  {
   "cell_type": "code",
   "execution_count": 6,
   "id": "75887d75",
   "metadata": {},
   "outputs": [
    {
     "data": {
      "text/html": [
       "<div>\n",
       "<style scoped>\n",
       "    .dataframe tbody tr th:only-of-type {\n",
       "        vertical-align: middle;\n",
       "    }\n",
       "\n",
       "    .dataframe tbody tr th {\n",
       "        vertical-align: top;\n",
       "    }\n",
       "\n",
       "    .dataframe thead th {\n",
       "        text-align: right;\n",
       "    }\n",
       "</style>\n",
       "<table border=\"1\" class=\"dataframe\">\n",
       "  <thead>\n",
       "    <tr style=\"text-align: right;\">\n",
       "      <th></th>\n",
       "      <th>count</th>\n",
       "      <th>unique</th>\n",
       "      <th>top</th>\n",
       "      <th>freq</th>\n",
       "      <th>mean</th>\n",
       "      <th>std</th>\n",
       "      <th>min</th>\n",
       "      <th>25%</th>\n",
       "      <th>50%</th>\n",
       "      <th>75%</th>\n",
       "      <th>max</th>\n",
       "    </tr>\n",
       "  </thead>\n",
       "  <tbody>\n",
       "    <tr>\n",
       "      <th>idade</th>\n",
       "      <td>1004.0</td>\n",
       "      <td>NaN</td>\n",
       "      <td>NaN</td>\n",
       "      <td>NaN</td>\n",
       "      <td>22.926295</td>\n",
       "      <td>4.369584</td>\n",
       "      <td>16.0</td>\n",
       "      <td>19.0</td>\n",
       "      <td>23.0</td>\n",
       "      <td>27.0</td>\n",
       "      <td>30.0</td>\n",
       "    </tr>\n",
       "    <tr>\n",
       "      <th>nota</th>\n",
       "      <td>1004.0</td>\n",
       "      <td>NaN</td>\n",
       "      <td>NaN</td>\n",
       "      <td>NaN</td>\n",
       "      <td>5.103842</td>\n",
       "      <td>2.830206</td>\n",
       "      <td>0.004054</td>\n",
       "      <td>2.710466</td>\n",
       "      <td>5.065165</td>\n",
       "      <td>7.495028</td>\n",
       "      <td>9.980323</td>\n",
       "    </tr>\n",
       "    <tr>\n",
       "      <th>horas_estudo</th>\n",
       "      <td>1003.0</td>\n",
       "      <td>NaN</td>\n",
       "      <td>NaN</td>\n",
       "      <td>NaN</td>\n",
       "      <td>10.63011</td>\n",
       "      <td>5.943998</td>\n",
       "      <td>1.0</td>\n",
       "      <td>5.0</td>\n",
       "      <td>10.0</td>\n",
       "      <td>16.0</td>\n",
       "      <td>20.0</td>\n",
       "    </tr>\n",
       "    <tr>\n",
       "      <th>area_formacao</th>\n",
       "      <td>1003</td>\n",
       "      <td>4</td>\n",
       "      <td>Ciência de dados</td>\n",
       "      <td>267</td>\n",
       "      <td>NaN</td>\n",
       "      <td>NaN</td>\n",
       "      <td>NaN</td>\n",
       "      <td>NaN</td>\n",
       "      <td>NaN</td>\n",
       "      <td>NaN</td>\n",
       "      <td>NaN</td>\n",
       "    </tr>\n",
       "  </tbody>\n",
       "</table>\n",
       "</div>"
      ],
      "text/plain": [
       "                count unique               top freq       mean       std  \\\n",
       "idade          1004.0    NaN               NaN  NaN  22.926295  4.369584   \n",
       "nota           1004.0    NaN               NaN  NaN   5.103842  2.830206   \n",
       "horas_estudo   1003.0    NaN               NaN  NaN   10.63011  5.943998   \n",
       "area_formacao    1003      4  Ciência de dados  267        NaN       NaN   \n",
       "\n",
       "                    min       25%       50%       75%       max  \n",
       "idade              16.0      19.0      23.0      27.0      30.0  \n",
       "nota           0.004054  2.710466  5.065165  7.495028  9.980323  \n",
       "horas_estudo        1.0       5.0      10.0      16.0      20.0  \n",
       "area_formacao       NaN       NaN       NaN       NaN       NaN  "
      ]
     },
     "execution_count": 6,
     "metadata": {},
     "output_type": "execute_result"
    }
   ],
   "source": [
    "resumo"
   ]
  },
  {
   "cell_type": "code",
   "execution_count": 7,
   "id": "37d07725",
   "metadata": {},
   "outputs": [
    {
     "data": {
      "text/html": [
       "<div>\n",
       "<style scoped>\n",
       "    .dataframe tbody tr th:only-of-type {\n",
       "        vertical-align: middle;\n",
       "    }\n",
       "\n",
       "    .dataframe tbody tr th {\n",
       "        vertical-align: top;\n",
       "    }\n",
       "\n",
       "    .dataframe thead th {\n",
       "        text-align: right;\n",
       "    }\n",
       "</style>\n",
       "<table border=\"1\" class=\"dataframe\">\n",
       "  <thead>\n",
       "    <tr style=\"text-align: right;\">\n",
       "      <th></th>\n",
       "      <th>idade</th>\n",
       "      <th>nota</th>\n",
       "      <th>horas_estudo</th>\n",
       "    </tr>\n",
       "  </thead>\n",
       "  <tbody>\n",
       "    <tr>\n",
       "      <th>idade</th>\n",
       "      <td>1.000000</td>\n",
       "      <td>-0.012991</td>\n",
       "      <td>0.030250</td>\n",
       "    </tr>\n",
       "    <tr>\n",
       "      <th>nota</th>\n",
       "      <td>-0.012991</td>\n",
       "      <td>1.000000</td>\n",
       "      <td>0.004699</td>\n",
       "    </tr>\n",
       "    <tr>\n",
       "      <th>horas_estudo</th>\n",
       "      <td>0.030250</td>\n",
       "      <td>0.004699</td>\n",
       "      <td>1.000000</td>\n",
       "    </tr>\n",
       "  </tbody>\n",
       "</table>\n",
       "</div>"
      ],
      "text/plain": [
       "                 idade      nota  horas_estudo\n",
       "idade         1.000000 -0.012991      0.030250\n",
       "nota         -0.012991  1.000000      0.004699\n",
       "horas_estudo  0.030250  0.004699      1.000000"
      ]
     },
     "execution_count": 7,
     "metadata": {},
     "output_type": "execute_result"
    }
   ],
   "source": [
    "correlacoes\n"
   ]
  },
  {
   "cell_type": "code",
   "execution_count": 8,
   "id": "0867e701",
   "metadata": {},
   "outputs": [
    {
     "name": "stdout",
     "output_type": "stream",
     "text": [
      "\n",
      "Resumo estatístico salvo em 'Resumo_Estatistico.csv'.\n",
      "Matriz de correlações salva em 'Correlacoes_Dados.csv'.\n",
      "\n",
      "Análise concluída.\n"
     ]
    }
   ],
   "source": [
    "# 4. Salvar as analises em Arquivos CSV\n",
    "nome_resumo_csv = \"Resumo_Estatistico.csv\"\n",
    "nome_correlacoes_csv = \"Correlacoes_Dados.csv\"\n",
    "\n",
    "# Salva o resumo (o index é o nome das colunas originais, importante mantê-lo)\n",
    "resumo.to_csv(nome_resumo_csv, index=True, encoding='utf-8')\n",
    "print(f\"\\nResumo estatístico salvo em '{nome_resumo_csv}'.\")\n",
    "\n",
    "# Salva as correlações (o index é o nome das colunas originais, importante mantê-lo)\n",
    "correlacoes.to_csv(nome_correlacoes_csv, index=True, encoding='utf-8')\n",
    "print(f\"Matriz de correlações salva em '{nome_correlacoes_csv}'.\")\n",
    "\n",
    "print(\"\\nAnálise concluída.\")"
   ]
  }
 ],
 "metadata": {
  "kernelspec": {
   "display_name": "base",
   "language": "python",
   "name": "python3"
  },
  "language_info": {
   "codemirror_mode": {
    "name": "ipython",
    "version": 3
   },
   "file_extension": ".py",
   "mimetype": "text/x-python",
   "name": "python",
   "nbconvert_exporter": "python",
   "pygments_lexer": "ipython3",
   "version": "3.12.7"
  }
 },
 "nbformat": 4,
 "nbformat_minor": 5
}
